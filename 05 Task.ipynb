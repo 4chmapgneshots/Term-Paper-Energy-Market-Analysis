{
 "cells": [
  {
   "cell_type": "markdown",
   "metadata": {},
   "source": [
    "Your boss believes that NO2 tends to export more electricity to Germany whenever the\n",
    "electricity price in Germany is higher relative to the price in NO2. She has asked you to\n",
    "investigate this claim by creating a **scatter plot between the weekly sum of net exports in NO2\n",
    "and the weekly average price difference between Germany and NO2.** Note that to find the\n",
    "weekly average price difference, you should first find the hourly price difference, and then take\n",
    "the weekly average.\n",
    "The graph should:\n",
    "- contain a single scatter plot that shows the weekly sum of net exports in NO2 on the y-\n",
    "axis and the weekly average price difference between Germany and NO2 on the x-axis.\n",
    "- contain the correlation coefficient between the weekly sum of net exports and the\n",
    "weekly average price difference in the figure title.\n",
    "- be stored as a png file called “figure_task5.png”.\n",
    "What is your conclusion? Does there seem to be a relationship between the weekly sum of net\n",
    "exports and the weekly average price difference? If so, is the relationship positive or negative?"
   ]
  },
  {
   "cell_type": "code",
   "execution_count": 1,
   "metadata": {},
   "outputs": [
    {
     "ename": "NameError",
     "evalue": "name 'datetime' is not defined",
     "output_type": "error",
     "traceback": [
      "\u001b[0;31m---------------------------------------------------------------------------\u001b[0m",
      "\u001b[0;31mNameError\u001b[0m                                 Traceback (most recent call last)",
      "Cell \u001b[0;32mIn[1], line 6\u001b[0m\n\u001b[1;32m      4\u001b[0m delu_data_path \u001b[38;5;241m=\u001b[39m \u001b[38;5;124m'\u001b[39m\u001b[38;5;124mdata/DayAheadPrices_12.1.D\u001b[39m\u001b[38;5;124m'\u001b[39m\n\u001b[1;32m      5\u001b[0m delu_file_matter \u001b[38;5;241m=\u001b[39m \u001b[38;5;124m'\u001b[39m\u001b[38;5;124mDayAheadPrices_12.1.D.csv\u001b[39m\u001b[38;5;124m'\u001b[39m\n\u001b[0;32m----> 6\u001b[0m nordlink_opening \u001b[38;5;241m=\u001b[39m \u001b[43mdatetime\u001b[49m(\u001b[38;5;241m2020\u001b[39m, \u001b[38;5;241m12\u001b[39m, \u001b[38;5;241m9\u001b[39m)\n\u001b[1;32m      8\u001b[0m \u001b[38;5;66;03m#NO2 Weekly Net Export, for Physical Flows\u001b[39;00m\n\u001b[1;32m      9\u001b[0m data \u001b[38;5;241m=\u001b[39m total_filtered_data(no2_data_path, no2_file_matter)\n",
      "\u001b[0;31mNameError\u001b[0m: name 'datetime' is not defined"
     ]
    }
   ],
   "source": [
    "#Global Variables\n",
    "no2_data_path = 'data/PhysicalFlows_12.1.G'\n",
    "no2_file_matter = 'PhysicalFlows_12.1.G.csv'\n",
    "delu_data_path = 'data/DayAheadPrices_12.1.D'\n",
    "delu_file_matter = 'DayAheadPrices_12.1.D.csv'\n",
    "nordlink_opening = datetime(2020, 12, 9)\n",
    "\n",
    "#NO2 Weekly Net Export, for Physical Flows\n",
    "data = total_filtered_data(no2_data_path, no2_file_matter)\n",
    "physical_data = data['physical_data']\n",
    "period = 'week'\n",
    "purpose = 'net'\n",
    "\n",
    "#DE_LU Weekly Average Price, for Price\n",
    "data = total_filtered_data(delu_data_path, delu_file_matter)\n",
    "pricing_data = data['price_data']\n",
    "\n",
    "\"\"\"\n",
    "The pricing_export_correlation function provides insight into relationship between export patterns and price differentials for two defined regions.\n",
    "\n",
    "Parameters:\n",
    "    pricing_data (pd.DataFrame): DataFrame containing electricity prices, with 'DateTime' and 'MapCode' columns.\n",
    "    physical_data (pd.DataFrame): DataFrame containing physical flow data with 'DateTime', 'InMapCode', 'OutMapCode', and 'FlowValue' columns.\n",
    "    mapcode1 (str): The 'MapCode' representing the first region (e.g., 'DE_LU' for Germany).\n",
    "    mapcode2 (str): The 'MapCode' representing the second region (e.g., 'NO2' for Norway).\n",
    "\n",
    "Functionality:\n",
    "1. Calculates Weekly Average Price Difference:\n",
    "2. Calculates Weekly Net Export leveraging physical_flow function from Task 3\n",
    "3. Merges Weekly Net Export and Weekly Average Difference\n",
    "4. Computes the Correlation for these two metrics.\n",
    "\n",
    "Returns:\n",
    "    pd.DataFrame: A merged DataFrame containing the weekly average price difference and weekly net exports.\n",
    "    float: The correlation coefficient between weekly net exports and weekly average price difference.\n",
    "\n",
    "Reusability:\n",
    "    - physical_flow function is reused making pricing_export_correlation easier to adapt\n",
    "\"\"\"\n",
    "\n",
    "\n",
    "def pricing_export_correlation(pricing_data, physical_data, mapcode1, mapcode2):\n",
    "    #Isolating Necessary Columns Directly\n",
    "    region1_prices = pricing_data[pricing_data['MapCode'] == mapcode1][['DateTime', 'Price']].set_index('DateTime')\n",
    "    region2_prices = pricing_data[pricing_data['MapCode'] == mapcode2][['DateTime', 'Price']].set_index('DateTime')\n",
    "\n",
    "    price_difference = region1_prices['Price'].subtract(region2_prices['Price'], fill_value=0)\n",
    "    weekly_avg_price_difference = price_difference.resample('W').mean().reset_index()\n",
    "    weekly_avg_price_difference.columns = ['Date', 'Weekly Avg Price Difference']\n",
    "\n",
    "    weekly_net_export_df = physical_flow(physical_data, period, purpose)\n",
    "\n",
    "    pricing_export_df = pd.merge(weekly_net_export_df, weekly_avg_price_difference, on='Date').dropna()\n",
    "\n",
    "    if 'Net Export' in pricing_export_df.columns and 'Weekly Avg Price Difference' in pricing_export_df.columns:\n",
    "        correlation = pricing_export_df['Net Export'].corr(pricing_export_df['Weekly Avg Price Difference'])\n",
    "    else:\n",
    "        print(\"Error: Required columns for correlation calculation are missing.\")\n",
    "        correlation = None\n",
    "    \n",
    "    return pricing_export_df, correlation\n",
    "\n",
    "pricing_export_df, correlation = pricing_export_correlation(pricing_data, physical_data, 'DE_LU', 'NO2')\n",
    "\n",
    "#Plotting\n",
    "plt.figure(figsize=(10, 6))\n",
    "plt.scatter(pricing_export_df['Weekly Avg Price Difference'], pricing_export_df['Net Export'], alpha=0.4)\n",
    "plt.title(f\"Weekly Net Exports vs. Weekly Avg Price Difference\\nCorrelation Coefficient: {correlation:.2f}\")\n",
    "plt.xlabel(\"Weekly Average Price Difference (DE_LU - NO2) [EUR/MWh]\")\n",
    "plt.ylabel(\"Weekly Sum of Net Exports (NO2 to DE_LU) [MWh]\")\n",
    "plt.grid(True)\n",
    "plt.savefig(\"figure_task5.png\")\n",
    "plt.show()"
   ]
  }
 ],
 "metadata": {
  "kernelspec": {
   "display_name": "venv",
   "language": "python",
   "name": "python3"
  },
  "language_info": {
   "codemirror_mode": {
    "name": "ipython",
    "version": 3
   },
   "file_extension": ".py",
   "mimetype": "text/x-python",
   "name": "python",
   "nbconvert_exporter": "python",
   "pygments_lexer": "ipython3",
   "version": "3.12.4"
  }
 },
 "nbformat": 4,
 "nbformat_minor": 2
}
